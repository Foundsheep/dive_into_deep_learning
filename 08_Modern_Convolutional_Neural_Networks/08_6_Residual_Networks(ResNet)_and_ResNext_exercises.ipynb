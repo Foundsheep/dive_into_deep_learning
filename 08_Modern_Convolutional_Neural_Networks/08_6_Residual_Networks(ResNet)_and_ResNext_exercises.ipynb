{
 "cells": [
  {
   "cell_type": "markdown",
   "metadata": {},
   "source": [
    "### Link : https://d2l.ai/chapter_convolutional-modern/resnet.html#exercises"
   ]
  },
  {
   "cell_type": "markdown",
   "metadata": {},
   "source": [
    "##### 1. What are the major differences between the Inception block in Fig. 8.4.1 and the residual block? How do they compare in terms of computation, accuracy, and the classes of functions they can describe? "
   ]
  },
  {
   "cell_type": "markdown",
   "metadata": {},
   "source": [
    "- In general, `Inception block` is more complicated than `Residual block`, because it has a few more paths where input is consumed in different ways, and how the input is merged with $f(x)$ is different. `Inception block` takes concatenation, whereas `Residual block` adds the input element-wise."
   ]
  },
  {
   "cell_type": "markdown",
   "metadata": {},
   "source": [
    "- In terms of computation, if we assume `Inception block`'s `3 X 3 conv` is the same as the counterpart of `Residual block`, the former one has 6 more convolutional layers in one block, so `Inception block` is more computationally expensive. And this conclusion is also based on the assumption that element-wise adding and concatenation are pretty much the same in computational efficiency"
   ]
  },
  {
   "cell_type": "markdown",
   "metadata": {},
   "source": [
    "---"
   ]
  }
 ],
 "metadata": {
  "language_info": {
   "name": "python"
  }
 },
 "nbformat": 4,
 "nbformat_minor": 2
}
